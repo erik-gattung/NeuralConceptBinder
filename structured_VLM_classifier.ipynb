{
 "cells": [
  {
   "cell_type": "code",
   "execution_count": 1,
   "metadata": {},
   "outputs": [],
   "source": [
    "import sglang as sgl\n",
    "from sglang.utils import wait_for_server\n",
    "from sglang.srt.constrained import build_regex_from_object\n",
    "from PIL import Image\n",
    "from enum import Enum\n",
    "from pydantic import BaseModel\n",
    "import json"
   ]
  },
  {
   "cell_type": "code",
   "execution_count": 2,
   "metadata": {},
   "outputs": [
    {
     "data": {
      "text/html": [
       "<strong style='color: #00008B;'><br><br>                    NOTE: Typically, the server runs in a separate terminal.<br>                    In this notebook, we run the server and notebook code together, so their outputs are combined.<br>                    To improve clarity, the server logs are displayed in the original black color, while the notebook outputs are highlighted in blue.<br>                    </strong>"
      ],
      "text/plain": [
       "<IPython.core.display.HTML object>"
      ]
     },
     "metadata": {},
     "output_type": "display_data"
    }
   ],
   "source": [
    "# launch vlm server in separate terminal via:\n",
    "# python3 -m sglang.launch_server --model-path lmms-lab/llava-onevision-qwen2-7b-ov --port=30000 --chat-template=chatml-llava --host=0.0.0.0\n",
    "# after starting server somewhere else\n",
    "\n",
    "# !curl https://localhost:30000\n",
    "wait_for_server(\"http://localhost:30000\")\n",
    "sgl.set_default_backend(sgl.RuntimeEndpoint(\"http://localhost:30000\"))"
   ]
  },
  {
   "cell_type": "code",
   "execution_count": 3,
   "metadata": {},
   "outputs": [],
   "source": [
    "# define structured output\n",
    "class color(str, Enum):\n",
    "    brown = \"brown\"\n",
    "    blue = \"blue\"\n",
    "    yellow = \"yellow\"\n",
    "    gray = \"gray\"\n",
    "    green = \"green\"\n",
    "    cyan = \"cyan\"\n",
    "    red = \"red\"\n",
    "    purple = \"purple\"\n",
    "\n",
    "\n",
    "class object_type(str, Enum):\n",
    "    tellerfeder = \"Tellerfeder\"\n",
    "    spannzapfen = \"Spannzapfen\"\n",
    "    sechskantschraube_m16x70_zlü = \"Sechskantschraube_M16x70_ZLÜ\"\n",
    "\n",
    "\n",
    "class object_properties(BaseModel):\n",
    "    object_type: object_type\n",
    "    color: color"
   ]
  },
  {
   "cell_type": "code",
   "execution_count": 21,
   "metadata": {},
   "outputs": [],
   "source": [
    "@sgl.function\n",
    "def object_classification(s, image: str | Image.Image):\n",
    "    s += sgl.user(\n",
    "        sgl.image(image)\n",
    "        + \"Klassifiziere das Bauteil im Bild egmäß dem JSON Format.\\n\"\n",
    "    )\n",
    "    s += sgl.gen(\n",
    "        \"object description\",\n",
    "        max_tokens=128,\n",
    "        temperature=0.2,\n",
    "        regex=build_regex_from_object(object_properties),  # Requires pydantic >= 2.0\n",
    "    )\n",
    "\n",
    "\n",
    "def object_classification_gen(image: str | Image.Image):\n",
    "    state = object_classification.run(image)\n",
    "    response = state.text()\n",
    "    start_index = response.find(\"{\")\n",
    "    return json.loads(response[start_index:])"
   ]
  },
  {
   "cell_type": "code",
   "execution_count": null,
   "metadata": {},
   "outputs": [
    {
     "name": "stdout",
     "output_type": "stream",
     "text": [
      "{'object_type': 'Spannzapfen', 'color': 'gray'}\n"
     ]
    }
   ],
   "source": [
    "# idiot VLM literally fails every answer\n",
    "img = Image.open(\"/app/vlm_test_imgs/sechskantschraube_M16x70_ZLÜ_001.jpg\")\n",
    "structured_output = object_classification_gen(img)\n",
    "print(structured_output)"
   ]
  }
 ],
 "metadata": {
  "kernelspec": {
   "display_name": "3090_kernel",
   "language": "python",
   "name": "3090_kernel"
  }
 },
 "nbformat": 4,
 "nbformat_minor": 2
}
