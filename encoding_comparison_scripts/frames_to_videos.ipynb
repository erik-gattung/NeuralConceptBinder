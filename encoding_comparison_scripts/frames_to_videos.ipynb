{
 "cells": [
  {
   "cell_type": "markdown",
   "metadata": {},
   "source": [
    "### Convert a series of frames to a video"
   ]
  },
  {
   "cell_type": "code",
   "execution_count": 1,
   "metadata": {},
   "outputs": [],
   "source": [
    "import os\n",
    "import subprocess"
   ]
  },
  {
   "cell_type": "code",
   "execution_count": null,
   "metadata": {},
   "outputs": [
    {
     "data": {
      "text/plain": [
       "['008',\n",
       " '009',\n",
       " '010',\n",
       " '011',\n",
       " '012',\n",
       " '013',\n",
       " '014',\n",
       " '015',\n",
       " '016',\n",
       " '017',\n",
       " '018',\n",
       " '019',\n",
       " '020',\n",
       " '021',\n",
       " '022',\n",
       " '023',\n",
       " '024',\n",
       " '025',\n",
       " '026',\n",
       " '027',\n",
       " '028',\n",
       " '029',\n",
       " '030',\n",
       " '031',\n",
       " '032',\n",
       " '033',\n",
       " '034',\n",
       " '035',\n",
       " '036',\n",
       " '037',\n",
       " '038',\n",
       " '039',\n",
       " '040',\n",
       " '041',\n",
       " '042',\n",
       " '043',\n",
       " '044',\n",
       " '045',\n",
       " '046',\n",
       " '047',\n",
       " '048',\n",
       " '049',\n",
       " '050',\n",
       " '051',\n",
       " '052',\n",
       " '053',\n",
       " '054',\n",
       " '055',\n",
       " '056',\n",
       " '057',\n",
       " '058',\n",
       " '059',\n",
       " '060',\n",
       " '061',\n",
       " '062',\n",
       " '063',\n",
       " '064',\n",
       " '065',\n",
       " '066',\n",
       " '067',\n",
       " '068',\n",
       " '069',\n",
       " '070',\n",
       " '071',\n",
       " '072',\n",
       " '073',\n",
       " '074',\n",
       " '075',\n",
       " '076',\n",
       " '077',\n",
       " '078',\n",
       " '079',\n",
       " '080',\n",
       " '081',\n",
       " '082',\n",
       " '083',\n",
       " '084',\n",
       " '085',\n",
       " '086',\n",
       " '087',\n",
       " '088',\n",
       " '089',\n",
       " '090',\n",
       " '091',\n",
       " '092',\n",
       " '093',\n",
       " '094',\n",
       " '095',\n",
       " '096',\n",
       " '097',\n",
       " '098',\n",
       " '099']"
      ]
     },
     "execution_count": 2,
     "metadata": {},
     "output_type": "execute_result"
    }
   ],
   "source": [
    "def frames_to_videos(video_id_str: str):\n",
    "    # setup paths based on video id\n",
    "    # video_frames_path = f\"/app/custom_clevrer/blender_images/video_{video_id_str}/my_frame_%06d.png\"\n",
    "    # target_file = f\"/app/custom_clevrer/blender_videos/video_{video_id_str}.mp4\"\n",
    "    video_frames_path = f\"/app/custom_clevrer/face_frames/video_{video_id_str}/my_frame_%06d.png\"\n",
    "    target_file = f\"/app/custom_clevrer/face_videos/video_{video_id_str}.mp4\"\n",
    "\n",
    "    # create frames from video\n",
    "    command = f\"cd {os.path.dirname(video_frames_path)} && ffmpeg -y -framerate 24 -i {os.path.basename(video_frames_path)} -c:v libx264 -pix_fmt yuv420p -crf 23 {target_file}\"\n",
    "    subprocess.run(command, shell=True)\n",
    "\n",
    "# declare video_id\n",
    "# video_ids = [\"000\", \"001\", \"002\", \"003\", \"004\", \"005\", \"006\", \"007\"]\n",
    "# video_ids = [\"015\"]\n",
    "video_ids = [str(i).zfill(3) for i in range(8, 100)]\n",
    "[frames_to_videos(v) for v in video_ids]"
   ]
  }
 ],
 "metadata": {
  "kernelspec": {
   "display_name": "4090_kernel",
   "language": "python",
   "name": "4090_kernel"
  },
  "language_info": {
   "codemirror_mode": {
    "name": "ipython",
    "version": 3
   },
   "file_extension": ".py",
   "mimetype": "text/x-python",
   "name": "python",
   "nbconvert_exporter": "python",
   "pygments_lexer": "ipython3",
   "version": "3.10.12"
  }
 },
 "nbformat": 4,
 "nbformat_minor": 2
}
