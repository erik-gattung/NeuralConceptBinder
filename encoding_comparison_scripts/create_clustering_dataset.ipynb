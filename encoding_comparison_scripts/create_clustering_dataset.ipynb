{
 "cells": [
  {
   "cell_type": "code",
   "execution_count": 1,
   "metadata": {},
   "outputs": [],
   "source": [
    "import os\n",
    "import random\n",
    "import shutil\n",
    "from PIL import Image\n",
    "\n",
    "custom_path = \"/app/custom_clevrer/square_face_images\"\n",
    "clevrer_path = \"/app/clevrer_video_frames\"\n",
    "target_path = \"/app/custom_clevrer/mixed_frames\"\n",
    "\n",
    "\n",
    "\n",
    "custom_image_path = os.listdir(custom_path)\n",
    "clevrer_image_path = os.listdir(clevrer_path)\n",
    "\n",
    "chosen_custom_images = random.sample(custom_image_path, k=2500)\n",
    "chosen_clevrer_images = random.sample(clevrer_image_path, k=2500)\n",
    "\n",
    "[shutil.copyfile(os.path.join(custom_path, custom_img_path), os.path.join(target_path, custom_img_path)) for custom_img_path in chosen_custom_images]\n",
    "for clevrer_img_path in chosen_clevrer_images:\n",
    "    img = Image.open(os.path.join(clevrer_path, clevrer_img_path))\n",
    "    output_path = os.path.join(target_path, clevrer_img_path).rsplit(\".\", 1)[0] + \".png\"\n",
    "    img.save(output_path, \"PNG\")"
   ]
  }
 ],
 "metadata": {
  "kernelspec": {
   "display_name": "4090_kernel",
   "language": "python",
   "name": "4090_kernel"
  }
 },
 "nbformat": 4,
 "nbformat_minor": 2
}
